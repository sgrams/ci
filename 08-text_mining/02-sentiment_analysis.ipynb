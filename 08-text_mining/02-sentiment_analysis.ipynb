{
 "cells": [
  {
   "cell_type": "code",
   "execution_count": 4,
   "metadata": {
    "scrolled": true
   },
   "outputs": [
    {
     "name": "stdout",
     "output_type": "stream",
     "text": [
      "Loaded dataset with 25000 training samples, 25000 test samples\n",
      "Model: \"sequential_3\"\n",
      "_________________________________________________________________\n",
      "Layer (type)                 Output Shape              Param #   \n",
      "=================================================================\n",
      "embedding_3 (Embedding)      (None, 500, 32)           160000    \n",
      "_________________________________________________________________\n",
      "lstm_3 (LSTM)                (None, 100)               53200     \n",
      "_________________________________________________________________\n",
      "dense_3 (Dense)              (None, 1)                 101       \n",
      "=================================================================\n",
      "Total params: 213,301\n",
      "Trainable params: 213,301\n",
      "Non-trainable params: 0\n",
      "_________________________________________________________________\n"
     ]
    },
    {
     "name": "stderr",
     "output_type": "stream",
     "text": [
      "/usr/lib/python3.8/site-packages/tensorflow_core/python/framework/indexed_slices.py:432: UserWarning: Converting sparse IndexedSlices to a dense Tensor of unknown shape. This may consume a large amount of memory.\n",
      "  warnings.warn(\n"
     ]
    },
    {
     "name": "stdout",
     "output_type": "stream",
     "text": [
      "Train on 24936 samples, validate on 64 samples\n",
      "Epoch 1/3\n",
      "24936/24936 [==============================] - 148s 6ms/step - loss: 0.4337 - accuracy: 0.7902 - val_loss: 0.2110 - val_accuracy: 0.9531\n",
      "Epoch 2/3\n",
      "24936/24936 [==============================] - 149s 6ms/step - loss: 0.2744 - accuracy: 0.8914 - val_loss: 0.2341 - val_accuracy: 0.8906\n",
      "Epoch 3/3\n",
      "24936/24936 [==============================] - 149s 6ms/step - loss: 0.2318 - accuracy: 0.9094 - val_loss: 0.2432 - val_accuracy: 0.9062\n",
      "25000/25000 [==============================] - 44s 2ms/step\n",
      "Test accuracy: 0.8508800268173218\n"
     ]
    }
   ],
   "source": [
    "#!/bin/env python\n",
    "# 2020/01/22\n",
    "# Sentiment analysis based on\n",
    "# https://towardsdatascience.com/a-beginners-guide-on-sentiment-analysis-with-rnn-9e100627c02e\n",
    "# Stanislaw Grams <sjg@fmdx.pl>\n",
    "# 08-text_mining/02-sentiment_analysis.ipybc\n",
    "from keras.datasets      import imdb\n",
    "from keras.preprocessing import sequence\n",
    "from keras               import Sequential\n",
    "from keras.layers        import Embedding, LSTM, Dense, Dropout\n",
    "\n",
    "## load imdb reviews database\n",
    "VOCABULARY_SIZE = 5000\n",
    "(X_train, Y_train), (X_test, Y_test) = imdb.load_data (num_words = VOCABULARY_SIZE)\n",
    "print ('Loaded dataset with {} training samples, {} test samples'.format (len (X_train), len (X_test)))\n",
    "\n",
    "## all reviews are ought to be the same length\n",
    "MAX_WORDS = 500\n",
    "X_train = sequence.pad_sequences (X_train, maxlen=MAX_WORDS)\n",
    "X_test  = sequence.pad_sequences (X_test, maxlen=MAX_WORDS)\n",
    "\n",
    "## sequential NN model for sentiment analysis\n",
    "EMBEDDING_SIZE = 32\n",
    "model = Sequential ()\n",
    "model.add (Embedding (VOCABULARY_SIZE, EMBEDDING_SIZE, input_length=MAX_WORDS))\n",
    "model.add (LSTM (100))\n",
    "model.add (Dense (1, activation='sigmoid'))\n",
    "\n",
    "model.summary ()\n",
    "\n",
    "## compile model\n",
    "BATCH_SIZE = 64\n",
    "NUM_EPOCHS = 3\n",
    "model.compile (loss='binary_crossentropy', optimizer='adam', metrics=['accuracy'])\n",
    "\n",
    "X_valid, Y_valid   = X_train[:BATCH_SIZE], Y_train[:BATCH_SIZE]\n",
    "X_train2, Y_train2 = X_train[BATCH_SIZE:], Y_train[BATCH_SIZE:]\n",
    "\n",
    "model.fit (X_train2, Y_train2, validation_data=(X_valid, Y_valid), batch_size=BATCH_SIZE, epochs=NUM_EPOCHS)\n",
    "scores = model.evaluate (X_test, Y_test, verbose=1)\n",
    "print ('Test accuracy:', scores[1])"
   ]
  },
  {
   "cell_type": "code",
   "execution_count": null,
   "metadata": {},
   "outputs": [],
   "source": []
  },
  {
   "cell_type": "code",
   "execution_count": null,
   "metadata": {},
   "outputs": [],
   "source": []
  }
 ],
 "metadata": {
  "kernelspec": {
   "display_name": "Python 3",
   "language": "python",
   "name": "python3"
  },
  "language_info": {
   "codemirror_mode": {
    "name": "ipython",
    "version": 3
   },
   "file_extension": ".py",
   "mimetype": "text/x-python",
   "name": "python",
   "nbconvert_exporter": "python",
   "pygments_lexer": "ipython3",
   "version": "3.8.1"
  }
 },
 "nbformat": 4,
 "nbformat_minor": 2
}
